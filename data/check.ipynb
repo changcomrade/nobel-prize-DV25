{
 "cells": [
  {
   "cell_type": "code",
   "execution_count": 16,
   "id": "80544e31",
   "metadata": {},
   "outputs": [],
   "source": [
    "import pandas as pd \n",
    "import numpy as np "
   ]
  },
  {
   "cell_type": "code",
   "execution_count": 28,
   "id": "797fddc4",
   "metadata": {},
   "outputs": [],
   "source": [
    "chemistry = pd.read_csv('Chemistry publication record.csv')\n",
    "chemistry[\"field\"] = \"chemistry\"\n",
    "medicine = pd.read_csv('Medicine publication record.csv', encoding='latin1')\n",
    "medicine[\"field\"] = \"medicine\"\n",
    "physics = pd.read_csv('Physics publication record.csv', encoding='latin1')\n",
    "physics[\"field\"] = \"physics\"\n",
    "\n",
    "data = pd.concat([chemistry, medicine, physics])"
   ]
  },
  {
   "cell_type": "code",
   "execution_count": 48,
   "id": "13499200",
   "metadata": {},
   "outputs": [],
   "source": [
    "data.to_csv(\"nobel_basic.csv\")"
   ]
  },
  {
   "cell_type": "code",
   "execution_count": 54,
   "id": "726d559d",
   "metadata": {},
   "outputs": [],
   "source": [
    "data[\"DOI\"].drop_duplicates().apply(lambda x: f\"https://doi.org/{x}\").to_csv(\"nobel_doi.txt\", index=False)"
   ]
  },
  {
   "cell_type": "code",
   "execution_count": 122,
   "id": "d21c525e",
   "metadata": {},
   "outputs": [],
   "source": [
    "prize_paper = pd.read_csv(\"nobel_paper.csv\")"
   ]
  },
  {
   "cell_type": "code",
   "execution_count": 123,
   "id": "59269520",
   "metadata": {},
   "outputs": [
    {
     "data": {
      "text/plain": [
       "harvard university                                      32\n",
       "stanford university                                     25\n",
       "rockefeller university                                  21\n",
       "max planck society                                      20\n",
       "california institute of technology                      19\n",
       "                                                        ..\n",
       "imperial chemical industries                             1\n",
       "new england biolabs                                      1\n",
       "university of texas health science center at houston     1\n",
       "university of gothenburg                                 1\n",
       "university of leeds                                      1\n",
       "Name: Affiliation, Length: 153, dtype: int64"
      ]
     },
     "execution_count": 123,
     "metadata": {},
     "output_type": "execute_result"
    }
   ],
   "source": [
    "prize_paper[\"Affiliation\"].value_counts()"
   ]
  },
  {
   "cell_type": "code",
   "execution_count": 124,
   "id": "32498dff",
   "metadata": {},
   "outputs": [],
   "source": [
    "institution_data = pd.DataFrame(prize_paper[\"Affiliation\"].value_counts())"
   ]
  },
  {
   "cell_type": "code",
   "execution_count": 125,
   "id": "bd35845f",
   "metadata": {},
   "outputs": [
    {
     "data": {
      "text/plain": [
       "536"
      ]
     },
     "execution_count": 125,
     "metadata": {},
     "output_type": "execute_result"
    }
   ],
   "source": [
    "institution_data[\"Affiliation\"].sum()"
   ]
  },
  {
   "cell_type": "code",
   "execution_count": null,
   "id": "591ef02d",
   "metadata": {},
   "outputs": [
    {
     "name": "stderr",
     "output_type": "stream",
     "text": [
      "Geocoding Institutions:  19%|█▉        | 29/153 [00:30<02:01,  1.02institution/s]"
     ]
    },
    {
     "name": "stdout",
     "output_type": "stream",
     "text": [
      "No location found for carnegie institution for science\n"
     ]
    },
    {
     "name": "stderr",
     "output_type": "stream",
     "text": [
      "Geocoding Institutions:  31%|███       | 47/153 [00:48<01:46,  1.00s/institution]"
     ]
    },
    {
     "name": "stdout",
     "output_type": "stream",
     "text": [
      "No location found for catholic university of leuven\n"
     ]
    },
    {
     "name": "stderr",
     "output_type": "stream",
     "text": [
      "Geocoding Institutions:  41%|████      | 63/153 [01:04<01:37,  1.09s/institution]"
     ]
    },
    {
     "name": "stdout",
     "output_type": "stream",
     "text": [
      "No location found for french institute of health and medical research\n"
     ]
    },
    {
     "name": "stderr",
     "output_type": "stream",
     "text": [
      "Geocoding Institutions:  59%|█████▉    | 90/153 [01:35<01:12,  1.15s/institution]"
     ]
    },
    {
     "name": "stdout",
     "output_type": "stream",
     "text": [
      "No location found for atomic energy of canada limited\n"
     ]
    },
    {
     "name": "stderr",
     "output_type": "stream",
     "text": [
      "Geocoding Institutions:  61%|██████▏   | 94/153 [01:39<01:05,  1.12s/institution]"
     ]
    },
    {
     "name": "stdout",
     "output_type": "stream",
     "text": [
      "No location found for french academy of sciences\n"
     ]
    },
    {
     "name": "stderr",
     "output_type": "stream",
     "text": [
      "Geocoding Institutions:  76%|███████▋  | 117/153 [02:02<00:39,  1.10s/institution]"
     ]
    },
    {
     "name": "stdout",
     "output_type": "stream",
     "text": [
      "No location found for german cancer research center\n"
     ]
    },
    {
     "name": "stderr",
     "output_type": "stream",
     "text": [
      "Geocoding Institutions:  78%|███████▊  | 119/153 [02:04<00:35,  1.03s/institution]"
     ]
    },
    {
     "name": "stdout",
     "output_type": "stream",
     "text": [
      "No location found for lister institute of preventive medicine\n"
     ]
    },
    {
     "name": "stderr",
     "output_type": "stream",
     "text": [
      "Geocoding Institutions:  88%|████████▊ | 134/153 [02:19<00:21,  1.12s/institution]"
     ]
    },
    {
     "name": "stdout",
     "output_type": "stream",
     "text": [
      "No location found for agency for science technology and research\n"
     ]
    },
    {
     "name": "stderr",
     "output_type": "stream",
     "text": [
      "Geocoding Institutions:  91%|█████████ | 139/153 [02:24<00:15,  1.09s/institution]"
     ]
    },
    {
     "name": "stdout",
     "output_type": "stream",
     "text": [
      "No location found for walter and eliza hall institute of medical research\n"
     ]
    },
    {
     "name": "stderr",
     "output_type": "stream",
     "text": [
      "Geocoding Institutions:  96%|█████████▌| 147/153 [02:32<00:06,  1.01s/institution]"
     ]
    },
    {
     "name": "stdout",
     "output_type": "stream",
     "text": [
      "No location found for basel institute for immunology\n"
     ]
    },
    {
     "name": "stderr",
     "output_type": "stream",
     "text": [
      "Geocoding Institutions:  99%|█████████▊| 151/153 [02:36<00:02,  1.18s/institution]"
     ]
    },
    {
     "name": "stdout",
     "output_type": "stream",
     "text": [
      "No location found for university of texas health science center at houston\n"
     ]
    },
    {
     "name": "stderr",
     "output_type": "stream",
     "text": [
      "Geocoding Institutions: 100%|██████████| 153/153 [02:38<00:00,  1.03s/institution]\n"
     ]
    }
   ],
   "source": [
    "def get_location():\n",
    "    from geopy.geocoders import Nominatim\n",
    "    from geopy.exc import GeocoderTimedOut\n",
    "    import json\n",
    "    import time\n",
    "    from tqdm import tqdm\n",
    "\n",
    "    geolocator = Nominatim(user_agent=\"nobel_viz\", timeout=10)  # Increase timeout to 10 seconds\n",
    "    institutions = institution_data.index\n",
    "\n",
    "    geo_data = []\n",
    "    for inst in tqdm(institutions, desc=\"Geocoding Institutions\", unit=\"institution\"):\n",
    "        retries = 3\n",
    "        for attempt in range(retries):\n",
    "            try:\n",
    "                location = geolocator.geocode(inst)\n",
    "                if location:\n",
    "                    geo_data.append({\n",
    "                        \"affiliation\": inst,\n",
    "                        \"latitude\": location.latitude,\n",
    "                        \"longitude\": location.longitude,\n",
    "                        \"city\": location.raw.get(\"address\", {}).get(\"city\", \"\"),\n",
    "                        \"country\": location.raw.get(\"address\", {}).get(\"country\", \"\")\n",
    "                    })\n",
    "                else:\n",
    "                    print(f\"No location found for {inst}\")\n",
    "                break  # Success, move to next institution\n",
    "            except GeocoderTimedOut as e:\n",
    "                print(f\"Timeout for {inst}, attempt {attempt + 1}/{retries}: {e}\")\n",
    "                if attempt < retries - 1:\n",
    "                    time.sleep(2)  # Wait before retrying\n",
    "                else:\n",
    "                    print(f\"Failed to geocode {inst} after {retries} attempts\")\n",
    "            except Exception as e:\n",
    "                print(f\"Error for {inst}: {e}\")\n",
    "                break\n",
    "            time.sleep(1)  # Respect rate limit\n",
    "\n",
    "    with open(\"geo_data.json\", \"w\") as f:\n",
    "        json.dump(geo_data, f, indent=2)\n",
    "\n",
    "# get_location()"
   ]
  },
  {
   "cell_type": "code",
   "execution_count": 75,
   "id": "5787e092",
   "metadata": {},
   "outputs": [
    {
     "data": {
      "text/html": [
       "<div>\n",
       "<style scoped>\n",
       "    .dataframe tbody tr th:only-of-type {\n",
       "        vertical-align: middle;\n",
       "    }\n",
       "\n",
       "    .dataframe tbody tr th {\n",
       "        vertical-align: top;\n",
       "    }\n",
       "\n",
       "    .dataframe thead th {\n",
       "        text-align: right;\n",
       "    }\n",
       "</style>\n",
       "<table border=\"1\" class=\"dataframe\">\n",
       "  <thead>\n",
       "    <tr style=\"text-align: right;\">\n",
       "      <th></th>\n",
       "      <th>times</th>\n",
       "    </tr>\n",
       "  </thead>\n",
       "  <tbody>\n",
       "    <tr>\n",
       "      <th>harvard university</th>\n",
       "      <td>32</td>\n",
       "    </tr>\n",
       "    <tr>\n",
       "      <th>stanford university</th>\n",
       "      <td>25</td>\n",
       "    </tr>\n",
       "    <tr>\n",
       "      <th>rockefeller university</th>\n",
       "      <td>21</td>\n",
       "    </tr>\n",
       "    <tr>\n",
       "      <th>max planck society</th>\n",
       "      <td>20</td>\n",
       "    </tr>\n",
       "    <tr>\n",
       "      <th>california institute of technology</th>\n",
       "      <td>19</td>\n",
       "    </tr>\n",
       "    <tr>\n",
       "      <th>...</th>\n",
       "      <td>...</td>\n",
       "    </tr>\n",
       "    <tr>\n",
       "      <th>imperial chemical industries</th>\n",
       "      <td>1</td>\n",
       "    </tr>\n",
       "    <tr>\n",
       "      <th>new england biolabs</th>\n",
       "      <td>1</td>\n",
       "    </tr>\n",
       "    <tr>\n",
       "      <th>university of texas health science center at houston</th>\n",
       "      <td>1</td>\n",
       "    </tr>\n",
       "    <tr>\n",
       "      <th>university of gothenburg</th>\n",
       "      <td>1</td>\n",
       "    </tr>\n",
       "    <tr>\n",
       "      <th>university of leeds</th>\n",
       "      <td>1</td>\n",
       "    </tr>\n",
       "  </tbody>\n",
       "</table>\n",
       "<p>153 rows × 1 columns</p>\n",
       "</div>"
      ],
      "text/plain": [
       "                                                    times\n",
       "harvard university                                     32\n",
       "stanford university                                    25\n",
       "rockefeller university                                 21\n",
       "max planck society                                     20\n",
       "california institute of technology                     19\n",
       "...                                                   ...\n",
       "imperial chemical industries                            1\n",
       "new england biolabs                                     1\n",
       "university of texas health science center at ho...      1\n",
       "university of gothenburg                                1\n",
       "university of leeds                                     1\n",
       "\n",
       "[153 rows x 1 columns]"
      ]
     },
     "execution_count": 75,
     "metadata": {},
     "output_type": "execute_result"
    }
   ],
   "source": [
    "institution_data.columns = [\"times\"]\n",
    "institution_data"
   ]
  },
  {
   "cell_type": "code",
   "execution_count": null,
   "id": "f9094826",
   "metadata": {},
   "outputs": [],
   "source": [
    "def get_times():\n",
    "    import json\n",
    "\n",
    "    times_data = dict(zip(institution_data.index, institution_data['times']))\n",
    "\n",
    "\n",
    "    with open('geo_data.json', 'r', encoding='utf-8') as f:\n",
    "        geo_data = json.load(f)\n",
    "\n",
    "    # 整合 times 数据\n",
    "    for item in geo_data:\n",
    "        affiliation = item['affiliation']\n",
    "        # 添加 times 字段，默认为0（如果机构不在times_data中）\n",
    "        item['times'] = times_data.get(affiliation, 0)\n",
    "\n",
    "    # 保存为 times.json\n",
    "    with open('times.json', 'w', encoding='utf-8') as f:\n",
    "        json.dump(geo_data, f, indent=2, ensure_ascii=False)\n",
    "\n",
    "    print(\"Integrated DataFrame times data into times.json\")\n",
    "    \n",
    "# get_times()"
   ]
  },
  {
   "cell_type": "code",
   "execution_count": 129,
   "id": "d1fe75c4",
   "metadata": {},
   "outputs": [
    {
     "data": {
      "text/plain": [
       "olah, g            1853\n",
       "brown, h           1630\n",
       "corey, e           1401\n",
       "schally, av        1313\n",
       "barton, d          1278\n",
       "                   ... \n",
       "victor grignard       1\n",
       "von euler, h          1\n",
       "heisenberg, w         1\n",
       "victor f. hess        1\n",
       "loewi, o              1\n",
       "Name: Laureate name, Length: 543, dtype: int64"
      ]
     },
     "execution_count": 129,
     "metadata": {},
     "output_type": "execute_result"
    }
   ],
   "source": [
    "data[\"Laureate name\"].value_counts()"
   ]
  },
  {
   "cell_type": "code",
   "execution_count": 130,
   "id": "7444ceb2",
   "metadata": {},
   "outputs": [
    {
     "data": {
      "text/plain": [
       "harvard university                      4773\n",
       "max planck society                      3950\n",
       "stanford university                     3196\n",
       "california institute of technology      2646\n",
       "university of southern california       2137\n",
       "                                        ... \n",
       "the catholic university of america         1\n",
       "west virginia university                   1\n",
       "public health laboratory                   1\n",
       "mount sinai hospital                       1\n",
       "city of hope national medical center       1\n",
       "Name: Affiliation, Length: 453, dtype: int64"
      ]
     },
     "execution_count": 130,
     "metadata": {},
     "output_type": "execute_result"
    }
   ],
   "source": [
    "data[\"Affiliation\"].value_counts()"
   ]
  },
  {
   "cell_type": "code",
   "execution_count": 131,
   "id": "752a214a",
   "metadata": {},
   "outputs": [
    {
     "data": {
      "text/html": [
       "<div>\n",
       "<style scoped>\n",
       "    .dataframe tbody tr th:only-of-type {\n",
       "        vertical-align: middle;\n",
       "    }\n",
       "\n",
       "    .dataframe tbody tr th {\n",
       "        vertical-align: top;\n",
       "    }\n",
       "\n",
       "    .dataframe thead th {\n",
       "        text-align: right;\n",
       "    }\n",
       "</style>\n",
       "<table border=\"1\" class=\"dataframe\">\n",
       "  <thead>\n",
       "    <tr style=\"text-align: right;\">\n",
       "      <th></th>\n",
       "      <th>Laureate ID</th>\n",
       "      <th>Laureate name</th>\n",
       "      <th>Prize year</th>\n",
       "      <th>Title</th>\n",
       "      <th>Pub year</th>\n",
       "      <th>Paper ID</th>\n",
       "      <th>DOI</th>\n",
       "      <th>Journal</th>\n",
       "      <th>Affiliation</th>\n",
       "      <th>Is prize-winning paper</th>\n",
       "      <th>field</th>\n",
       "    </tr>\n",
       "  </thead>\n",
       "  <tbody>\n",
       "    <tr>\n",
       "      <th>0</th>\n",
       "      <td>20001</td>\n",
       "      <td>stoddart, j</td>\n",
       "      <td>2016</td>\n",
       "      <td>a molecular shuttle</td>\n",
       "      <td>1991.0</td>\n",
       "      <td>1.976039e+09</td>\n",
       "      <td>10.1021/ja00013a096</td>\n",
       "      <td>journal of the american chemical society</td>\n",
       "      <td>northwestern university</td>\n",
       "      <td>YES</td>\n",
       "      <td>chemistry</td>\n",
       "    </tr>\n",
       "    <tr>\n",
       "      <th>1</th>\n",
       "      <td>20001</td>\n",
       "      <td>stoddart, j</td>\n",
       "      <td>2016</td>\n",
       "      <td>chemical synthesis of nanostructures</td>\n",
       "      <td>1993.0</td>\n",
       "      <td>1.963538e+09</td>\n",
       "      <td>10.1557/PROC-330-57</td>\n",
       "      <td>mrs proceedings</td>\n",
       "      <td>northwestern university</td>\n",
       "      <td>NO</td>\n",
       "      <td>chemistry</td>\n",
       "    </tr>\n",
       "    <tr>\n",
       "      <th>2</th>\n",
       "      <td>20001</td>\n",
       "      <td>stoddart, j</td>\n",
       "      <td>2016</td>\n",
       "      <td>formation and x ray crystal structure of pt h2...</td>\n",
       "      <td>1981.0</td>\n",
       "      <td>1.963552e+09</td>\n",
       "      <td>10.1039/C39810000851</td>\n",
       "      <td>journal of the chemical society chemical commu...</td>\n",
       "      <td>northwestern university</td>\n",
       "      <td>NO</td>\n",
       "      <td>chemistry</td>\n",
       "    </tr>\n",
       "    <tr>\n",
       "      <th>3</th>\n",
       "      <td>20001</td>\n",
       "      <td>stoddart, j</td>\n",
       "      <td>2016</td>\n",
       "      <td>single walled carbon nanotubes under the influ...</td>\n",
       "      <td>2005.0</td>\n",
       "      <td>2.095637e+09</td>\n",
       "      <td>10.1002/smll.200400070</td>\n",
       "      <td>small</td>\n",
       "      <td>northwestern university</td>\n",
       "      <td>NO</td>\n",
       "      <td>chemistry</td>\n",
       "    </tr>\n",
       "    <tr>\n",
       "      <th>4</th>\n",
       "      <td>20001</td>\n",
       "      <td>stoddart, j</td>\n",
       "      <td>2016</td>\n",
       "      <td>synthesis of medium heterocyclic rings from 6 ...</td>\n",
       "      <td>1974.0</td>\n",
       "      <td>2.095679e+09</td>\n",
       "      <td>10.1016/S0008-6215(00)82105-9</td>\n",
       "      <td>carbohydrate research</td>\n",
       "      <td>northwestern university</td>\n",
       "      <td>NO</td>\n",
       "      <td>chemistry</td>\n",
       "    </tr>\n",
       "    <tr>\n",
       "      <th>...</th>\n",
       "      <td>...</td>\n",
       "      <td>...</td>\n",
       "      <td>...</td>\n",
       "      <td>...</td>\n",
       "      <td>...</td>\n",
       "      <td>...</td>\n",
       "      <td>...</td>\n",
       "      <td>...</td>\n",
       "      <td>...</td>\n",
       "      <td>...</td>\n",
       "      <td>...</td>\n",
       "    </tr>\n",
       "    <tr>\n",
       "      <th>21499</th>\n",
       "      <td>10193</td>\n",
       "      <td>zeeman, p</td>\n",
       "      <td>1902</td>\n",
       "      <td>The Effect of Magnetisation on the Nature of L...</td>\n",
       "      <td>1897.0</td>\n",
       "      <td>NaN</td>\n",
       "      <td>NaN</td>\n",
       "      <td>NaN</td>\n",
       "      <td>NaN</td>\n",
       "      <td>YES</td>\n",
       "      <td>physics</td>\n",
       "    </tr>\n",
       "    <tr>\n",
       "      <th>21500</th>\n",
       "      <td>10193</td>\n",
       "      <td>zeeman, p</td>\n",
       "      <td>1902</td>\n",
       "      <td>The Influence of a Magnetic Field on Radiation...</td>\n",
       "      <td>1896.0</td>\n",
       "      <td>NaN</td>\n",
       "      <td>NaN</td>\n",
       "      <td>NaN</td>\n",
       "      <td>NaN</td>\n",
       "      <td>YES</td>\n",
       "      <td>physics</td>\n",
       "    </tr>\n",
       "    <tr>\n",
       "      <th>21501</th>\n",
       "      <td>10193</td>\n",
       "      <td>zeeman, p</td>\n",
       "      <td>1902</td>\n",
       "      <td>zur hyperfeinstruktur des wismuts</td>\n",
       "      <td>1930.0</td>\n",
       "      <td>2.058955e+09</td>\n",
       "      <td>10.1007/BF01397521</td>\n",
       "      <td>european physical journal</td>\n",
       "      <td>NaN</td>\n",
       "      <td>NO</td>\n",
       "      <td>physics</td>\n",
       "    </tr>\n",
       "    <tr>\n",
       "      <th>21502</th>\n",
       "      <td>10193</td>\n",
       "      <td>zeeman, p</td>\n",
       "      <td>1902</td>\n",
       "      <td>on the spectrum of ionised potassium in connex...</td>\n",
       "      <td>1924.0</td>\n",
       "      <td>2.013742e+09</td>\n",
       "      <td>10.1038/114352a0</td>\n",
       "      <td>nature</td>\n",
       "      <td>university of amsterdam</td>\n",
       "      <td>NO</td>\n",
       "      <td>physics</td>\n",
       "    </tr>\n",
       "    <tr>\n",
       "      <th>21503</th>\n",
       "      <td>10193</td>\n",
       "      <td>zeeman, p</td>\n",
       "      <td>1902</td>\n",
       "      <td>on a connexion between the spectra of argon an...</td>\n",
       "      <td>1925.0</td>\n",
       "      <td>2.033830e+09</td>\n",
       "      <td>10.1038/115116b0</td>\n",
       "      <td>nature</td>\n",
       "      <td>university of amsterdam</td>\n",
       "      <td>NO</td>\n",
       "      <td>physics</td>\n",
       "    </tr>\n",
       "  </tbody>\n",
       "</table>\n",
       "<p>93394 rows × 11 columns</p>\n",
       "</div>"
      ],
      "text/plain": [
       "       Laureate ID Laureate name  Prize year  \\\n",
       "0            20001   stoddart, j        2016   \n",
       "1            20001   stoddart, j        2016   \n",
       "2            20001   stoddart, j        2016   \n",
       "3            20001   stoddart, j        2016   \n",
       "4            20001   stoddart, j        2016   \n",
       "...            ...           ...         ...   \n",
       "21499        10193     zeeman, p        1902   \n",
       "21500        10193     zeeman, p        1902   \n",
       "21501        10193     zeeman, p        1902   \n",
       "21502        10193     zeeman, p        1902   \n",
       "21503        10193     zeeman, p        1902   \n",
       "\n",
       "                                                   Title  Pub year  \\\n",
       "0                                    a molecular shuttle    1991.0   \n",
       "1                   chemical synthesis of nanostructures    1993.0   \n",
       "2      formation and x ray crystal structure of pt h2...    1981.0   \n",
       "3      single walled carbon nanotubes under the influ...    2005.0   \n",
       "4      synthesis of medium heterocyclic rings from 6 ...    1974.0   \n",
       "...                                                  ...       ...   \n",
       "21499  The Effect of Magnetisation on the Nature of L...    1897.0   \n",
       "21500  The Influence of a Magnetic Field on Radiation...    1896.0   \n",
       "21501                  zur hyperfeinstruktur des wismuts    1930.0   \n",
       "21502  on the spectrum of ionised potassium in connex...    1924.0   \n",
       "21503  on a connexion between the spectra of argon an...    1925.0   \n",
       "\n",
       "           Paper ID                            DOI  \\\n",
       "0      1.976039e+09            10.1021/ja00013a096   \n",
       "1      1.963538e+09            10.1557/PROC-330-57   \n",
       "2      1.963552e+09           10.1039/C39810000851   \n",
       "3      2.095637e+09         10.1002/smll.200400070   \n",
       "4      2.095679e+09  10.1016/S0008-6215(00)82105-9   \n",
       "...             ...                            ...   \n",
       "21499           NaN                            NaN   \n",
       "21500           NaN                            NaN   \n",
       "21501  2.058955e+09             10.1007/BF01397521   \n",
       "21502  2.013742e+09               10.1038/114352a0   \n",
       "21503  2.033830e+09               10.1038/115116b0   \n",
       "\n",
       "                                                 Journal  \\\n",
       "0               journal of the american chemical society   \n",
       "1                                        mrs proceedings   \n",
       "2      journal of the chemical society chemical commu...   \n",
       "3                                                  small   \n",
       "4                                  carbohydrate research   \n",
       "...                                                  ...   \n",
       "21499                                                NaN   \n",
       "21500                                                NaN   \n",
       "21501                          european physical journal   \n",
       "21502                                             nature   \n",
       "21503                                             nature   \n",
       "\n",
       "                   Affiliation Is prize-winning paper      field  \n",
       "0      northwestern university                    YES  chemistry  \n",
       "1      northwestern university                     NO  chemistry  \n",
       "2      northwestern university                     NO  chemistry  \n",
       "3      northwestern university                     NO  chemistry  \n",
       "4      northwestern university                     NO  chemistry  \n",
       "...                        ...                    ...        ...  \n",
       "21499                      NaN                    YES    physics  \n",
       "21500                      NaN                    YES    physics  \n",
       "21501                      NaN                     NO    physics  \n",
       "21502  university of amsterdam                     NO    physics  \n",
       "21503  university of amsterdam                     NO    physics  \n",
       "\n",
       "[93394 rows x 11 columns]"
      ]
     },
     "execution_count": 131,
     "metadata": {},
     "output_type": "execute_result"
    }
   ],
   "source": [
    "data"
   ]
  },
  {
   "cell_type": "code",
   "execution_count": 157,
   "id": "ae57a4ac",
   "metadata": {},
   "outputs": [
    {
     "name": "stdout",
     "output_type": "stream",
     "text": [
      "scientist_data.json 已生成！\n"
     ]
    }
   ],
   "source": [
    "\n",
    "# 处理 Pub year 缺失值，丢弃包含 NaN 的行\n",
    "df = data.dropna(subset=['Pub year'])\n",
    "\n",
    "# 按 Laureate name 和 field 聚合总发文量\n",
    "scientist_data = df.groupby(['Laureate name', 'field', 'Prize year']).size().reset_index(name='times')\n",
    "\n",
    "# 计算 prize_paper_ranks（所有获奖论文的位置）\n",
    "scientist_data['prize_paper_ranks'] = [[] for _ in range(len(scientist_data))]\n",
    "for idx, row in scientist_data.iterrows():\n",
    "    laureate = row['Laureate name']\n",
    "    field = row['field']\n",
    "    papers = df[(df['Laureate name'] == laureate) & (df['field'] == field)]\n",
    "    papers = papers.sort_values('Pub year').reset_index(drop=True)  # 重置索引\n",
    "    prize_indices = papers[papers['Is prize-winning paper'] == 'YES'].index\n",
    "    ranks = [int(i) + 1 for i in prize_indices]  # 基于排序后的位置\n",
    "    scientist_data.at[idx, 'prize_paper_ranks'] = ranks if len(ranks) > 0 else []  # 确保为空数组\n",
    "\n",
    "# 保存为 scientist_data.json\n",
    "scientist_data.to_json('scientist_data.json', orient='records', force_ascii=False)\n",
    "print(\"scientist_data.json 已生成！\")"
   ]
  },
  {
   "cell_type": "code",
   "execution_count": 133,
   "id": "e25f8f03",
   "metadata": {},
   "outputs": [],
   "source": [
    "timeline_data = data.groupby(['Laureate name', 'field', 'Pub year']).size().reset_index(name='times')\n",
    "\n",
    "# 保存为 scientist_timeline.json\n",
    "timeline_data.to_json('scientist_timeline.json', orient='records', force_ascii=False)"
   ]
  },
  {
   "cell_type": "code",
   "execution_count": 160,
   "id": "65ed7bf2",
   "metadata": {},
   "outputs": [
    {
     "data": {
      "text/html": [
       "<div>\n",
       "<style scoped>\n",
       "    .dataframe tbody tr th:only-of-type {\n",
       "        vertical-align: middle;\n",
       "    }\n",
       "\n",
       "    .dataframe tbody tr th {\n",
       "        vertical-align: top;\n",
       "    }\n",
       "\n",
       "    .dataframe thead th {\n",
       "        text-align: right;\n",
       "    }\n",
       "</style>\n",
       "<table border=\"1\" class=\"dataframe\">\n",
       "  <thead>\n",
       "    <tr style=\"text-align: right;\">\n",
       "      <th></th>\n",
       "      <th>Laureate ID</th>\n",
       "      <th>Laureate name</th>\n",
       "      <th>Prize year</th>\n",
       "      <th>Title</th>\n",
       "      <th>Pub year</th>\n",
       "      <th>Paper ID</th>\n",
       "      <th>DOI</th>\n",
       "      <th>Journal</th>\n",
       "      <th>Affiliation</th>\n",
       "      <th>Is prize-winning paper</th>\n",
       "      <th>field</th>\n",
       "    </tr>\n",
       "  </thead>\n",
       "  <tbody>\n",
       "    <tr>\n",
       "      <th>2165</th>\n",
       "      <td>30009</td>\n",
       "      <td>schekman, r</td>\n",
       "      <td>2013</td>\n",
       "      <td>secretion and cell surface growth are blocked ...</td>\n",
       "      <td>1979.0</td>\n",
       "      <td>1.966447e+09</td>\n",
       "      <td>10.1073/pnas.76.4.1858</td>\n",
       "      <td>proceedings of the national academy of science...</td>\n",
       "      <td>NaN</td>\n",
       "      <td>YES</td>\n",
       "      <td>medicine</td>\n",
       "    </tr>\n",
       "    <tr>\n",
       "      <th>2164</th>\n",
       "      <td>30009</td>\n",
       "      <td>schekman, r</td>\n",
       "      <td>2013</td>\n",
       "      <td>identification of 23 complementation groups re...</td>\n",
       "      <td>1980.0</td>\n",
       "      <td>2.059775e+09</td>\n",
       "      <td>10.1016/0092-8674(80)90128-2</td>\n",
       "      <td>cell</td>\n",
       "      <td>NaN</td>\n",
       "      <td>YES</td>\n",
       "      <td>medicine</td>\n",
       "    </tr>\n",
       "  </tbody>\n",
       "</table>\n",
       "</div>"
      ],
      "text/plain": [
       "      Laureate ID Laureate name  Prize year  \\\n",
       "2165        30009   schekman, r        2013   \n",
       "2164        30009   schekman, r        2013   \n",
       "\n",
       "                                                  Title  Pub year  \\\n",
       "2165  secretion and cell surface growth are blocked ...    1979.0   \n",
       "2164  identification of 23 complementation groups re...    1980.0   \n",
       "\n",
       "          Paper ID                           DOI  \\\n",
       "2165  1.966447e+09        10.1073/pnas.76.4.1858   \n",
       "2164  2.059775e+09  10.1016/0092-8674(80)90128-2   \n",
       "\n",
       "                                                Journal Affiliation  \\\n",
       "2165  proceedings of the national academy of science...         NaN   \n",
       "2164                                               cell         NaN   \n",
       "\n",
       "     Is prize-winning paper     field  \n",
       "2165                    YES  medicine  \n",
       "2164                    YES  medicine  "
      ]
     },
     "execution_count": 160,
     "metadata": {},
     "output_type": "execute_result"
    }
   ],
   "source": [
    "data[(data[\"Is prize-winning paper\"] == \"YES\") & (data[\"Laureate name\"] == \"schekman, r\")].sort_values(\"Pub year\").head(20)"
   ]
  },
  {
   "cell_type": "code",
   "execution_count": 145,
   "id": "8908d9ca",
   "metadata": {},
   "outputs": [
    {
     "data": {
      "text/html": [
       "<div>\n",
       "<style scoped>\n",
       "    .dataframe tbody tr th:only-of-type {\n",
       "        vertical-align: middle;\n",
       "    }\n",
       "\n",
       "    .dataframe tbody tr th {\n",
       "        vertical-align: top;\n",
       "    }\n",
       "\n",
       "    .dataframe thead th {\n",
       "        text-align: right;\n",
       "    }\n",
       "</style>\n",
       "<table border=\"1\" class=\"dataframe\">\n",
       "  <thead>\n",
       "    <tr style=\"text-align: right;\">\n",
       "      <th></th>\n",
       "      <th>Laureate ID</th>\n",
       "      <th>Laureate name</th>\n",
       "      <th>Prize year</th>\n",
       "      <th>Title</th>\n",
       "      <th>Pub year</th>\n",
       "      <th>Paper ID</th>\n",
       "      <th>DOI</th>\n",
       "      <th>Journal</th>\n",
       "      <th>Affiliation</th>\n",
       "      <th>Is prize-winning paper</th>\n",
       "      <th>field</th>\n",
       "    </tr>\n",
       "  </thead>\n",
       "  <tbody>\n",
       "    <tr>\n",
       "      <th>0</th>\n",
       "      <td>20001</td>\n",
       "      <td>stoddart, j</td>\n",
       "      <td>2016</td>\n",
       "      <td>a molecular shuttle</td>\n",
       "      <td>1991.0</td>\n",
       "      <td>1.976039e+09</td>\n",
       "      <td>10.1021/ja00013a096</td>\n",
       "      <td>journal of the american chemical society</td>\n",
       "      <td>northwestern university</td>\n",
       "      <td>YES</td>\n",
       "      <td>chemistry</td>\n",
       "    </tr>\n",
       "    <tr>\n",
       "      <th>1</th>\n",
       "      <td>20001</td>\n",
       "      <td>stoddart, j</td>\n",
       "      <td>2016</td>\n",
       "      <td>chemical synthesis of nanostructures</td>\n",
       "      <td>1993.0</td>\n",
       "      <td>1.963538e+09</td>\n",
       "      <td>10.1557/PROC-330-57</td>\n",
       "      <td>mrs proceedings</td>\n",
       "      <td>northwestern university</td>\n",
       "      <td>NO</td>\n",
       "      <td>chemistry</td>\n",
       "    </tr>\n",
       "    <tr>\n",
       "      <th>2</th>\n",
       "      <td>20001</td>\n",
       "      <td>stoddart, j</td>\n",
       "      <td>2016</td>\n",
       "      <td>formation and x ray crystal structure of pt h2...</td>\n",
       "      <td>1981.0</td>\n",
       "      <td>1.963552e+09</td>\n",
       "      <td>10.1039/C39810000851</td>\n",
       "      <td>journal of the chemical society chemical commu...</td>\n",
       "      <td>northwestern university</td>\n",
       "      <td>NO</td>\n",
       "      <td>chemistry</td>\n",
       "    </tr>\n",
       "    <tr>\n",
       "      <th>3</th>\n",
       "      <td>20001</td>\n",
       "      <td>stoddart, j</td>\n",
       "      <td>2016</td>\n",
       "      <td>single walled carbon nanotubes under the influ...</td>\n",
       "      <td>2005.0</td>\n",
       "      <td>2.095637e+09</td>\n",
       "      <td>10.1002/smll.200400070</td>\n",
       "      <td>small</td>\n",
       "      <td>northwestern university</td>\n",
       "      <td>NO</td>\n",
       "      <td>chemistry</td>\n",
       "    </tr>\n",
       "    <tr>\n",
       "      <th>4</th>\n",
       "      <td>20001</td>\n",
       "      <td>stoddart, j</td>\n",
       "      <td>2016</td>\n",
       "      <td>synthesis of medium heterocyclic rings from 6 ...</td>\n",
       "      <td>1974.0</td>\n",
       "      <td>2.095679e+09</td>\n",
       "      <td>10.1016/S0008-6215(00)82105-9</td>\n",
       "      <td>carbohydrate research</td>\n",
       "      <td>northwestern university</td>\n",
       "      <td>NO</td>\n",
       "      <td>chemistry</td>\n",
       "    </tr>\n",
       "    <tr>\n",
       "      <th>...</th>\n",
       "      <td>...</td>\n",
       "      <td>...</td>\n",
       "      <td>...</td>\n",
       "      <td>...</td>\n",
       "      <td>...</td>\n",
       "      <td>...</td>\n",
       "      <td>...</td>\n",
       "      <td>...</td>\n",
       "      <td>...</td>\n",
       "      <td>...</td>\n",
       "      <td>...</td>\n",
       "    </tr>\n",
       "    <tr>\n",
       "      <th>21499</th>\n",
       "      <td>10193</td>\n",
       "      <td>zeeman, p</td>\n",
       "      <td>1902</td>\n",
       "      <td>The Effect of Magnetisation on the Nature of L...</td>\n",
       "      <td>1897.0</td>\n",
       "      <td>NaN</td>\n",
       "      <td>NaN</td>\n",
       "      <td>NaN</td>\n",
       "      <td>NaN</td>\n",
       "      <td>YES</td>\n",
       "      <td>physics</td>\n",
       "    </tr>\n",
       "    <tr>\n",
       "      <th>21500</th>\n",
       "      <td>10193</td>\n",
       "      <td>zeeman, p</td>\n",
       "      <td>1902</td>\n",
       "      <td>The Influence of a Magnetic Field on Radiation...</td>\n",
       "      <td>1896.0</td>\n",
       "      <td>NaN</td>\n",
       "      <td>NaN</td>\n",
       "      <td>NaN</td>\n",
       "      <td>NaN</td>\n",
       "      <td>YES</td>\n",
       "      <td>physics</td>\n",
       "    </tr>\n",
       "    <tr>\n",
       "      <th>21501</th>\n",
       "      <td>10193</td>\n",
       "      <td>zeeman, p</td>\n",
       "      <td>1902</td>\n",
       "      <td>zur hyperfeinstruktur des wismuts</td>\n",
       "      <td>1930.0</td>\n",
       "      <td>2.058955e+09</td>\n",
       "      <td>10.1007/BF01397521</td>\n",
       "      <td>european physical journal</td>\n",
       "      <td>NaN</td>\n",
       "      <td>NO</td>\n",
       "      <td>physics</td>\n",
       "    </tr>\n",
       "    <tr>\n",
       "      <th>21502</th>\n",
       "      <td>10193</td>\n",
       "      <td>zeeman, p</td>\n",
       "      <td>1902</td>\n",
       "      <td>on the spectrum of ionised potassium in connex...</td>\n",
       "      <td>1924.0</td>\n",
       "      <td>2.013742e+09</td>\n",
       "      <td>10.1038/114352a0</td>\n",
       "      <td>nature</td>\n",
       "      <td>university of amsterdam</td>\n",
       "      <td>NO</td>\n",
       "      <td>physics</td>\n",
       "    </tr>\n",
       "    <tr>\n",
       "      <th>21503</th>\n",
       "      <td>10193</td>\n",
       "      <td>zeeman, p</td>\n",
       "      <td>1902</td>\n",
       "      <td>on a connexion between the spectra of argon an...</td>\n",
       "      <td>1925.0</td>\n",
       "      <td>2.033830e+09</td>\n",
       "      <td>10.1038/115116b0</td>\n",
       "      <td>nature</td>\n",
       "      <td>university of amsterdam</td>\n",
       "      <td>NO</td>\n",
       "      <td>physics</td>\n",
       "    </tr>\n",
       "  </tbody>\n",
       "</table>\n",
       "<p>93394 rows × 11 columns</p>\n",
       "</div>"
      ],
      "text/plain": [
       "       Laureate ID Laureate name  Prize year  \\\n",
       "0            20001   stoddart, j        2016   \n",
       "1            20001   stoddart, j        2016   \n",
       "2            20001   stoddart, j        2016   \n",
       "3            20001   stoddart, j        2016   \n",
       "4            20001   stoddart, j        2016   \n",
       "...            ...           ...         ...   \n",
       "21499        10193     zeeman, p        1902   \n",
       "21500        10193     zeeman, p        1902   \n",
       "21501        10193     zeeman, p        1902   \n",
       "21502        10193     zeeman, p        1902   \n",
       "21503        10193     zeeman, p        1902   \n",
       "\n",
       "                                                   Title  Pub year  \\\n",
       "0                                    a molecular shuttle    1991.0   \n",
       "1                   chemical synthesis of nanostructures    1993.0   \n",
       "2      formation and x ray crystal structure of pt h2...    1981.0   \n",
       "3      single walled carbon nanotubes under the influ...    2005.0   \n",
       "4      synthesis of medium heterocyclic rings from 6 ...    1974.0   \n",
       "...                                                  ...       ...   \n",
       "21499  The Effect of Magnetisation on the Nature of L...    1897.0   \n",
       "21500  The Influence of a Magnetic Field on Radiation...    1896.0   \n",
       "21501                  zur hyperfeinstruktur des wismuts    1930.0   \n",
       "21502  on the spectrum of ionised potassium in connex...    1924.0   \n",
       "21503  on a connexion between the spectra of argon an...    1925.0   \n",
       "\n",
       "           Paper ID                            DOI  \\\n",
       "0      1.976039e+09            10.1021/ja00013a096   \n",
       "1      1.963538e+09            10.1557/PROC-330-57   \n",
       "2      1.963552e+09           10.1039/C39810000851   \n",
       "3      2.095637e+09         10.1002/smll.200400070   \n",
       "4      2.095679e+09  10.1016/S0008-6215(00)82105-9   \n",
       "...             ...                            ...   \n",
       "21499           NaN                            NaN   \n",
       "21500           NaN                            NaN   \n",
       "21501  2.058955e+09             10.1007/BF01397521   \n",
       "21502  2.013742e+09               10.1038/114352a0   \n",
       "21503  2.033830e+09               10.1038/115116b0   \n",
       "\n",
       "                                                 Journal  \\\n",
       "0               journal of the american chemical society   \n",
       "1                                        mrs proceedings   \n",
       "2      journal of the chemical society chemical commu...   \n",
       "3                                                  small   \n",
       "4                                  carbohydrate research   \n",
       "...                                                  ...   \n",
       "21499                                                NaN   \n",
       "21500                                                NaN   \n",
       "21501                          european physical journal   \n",
       "21502                                             nature   \n",
       "21503                                             nature   \n",
       "\n",
       "                   Affiliation Is prize-winning paper      field  \n",
       "0      northwestern university                    YES  chemistry  \n",
       "1      northwestern university                     NO  chemistry  \n",
       "2      northwestern university                     NO  chemistry  \n",
       "3      northwestern university                     NO  chemistry  \n",
       "4      northwestern university                     NO  chemistry  \n",
       "...                        ...                    ...        ...  \n",
       "21499                      NaN                    YES    physics  \n",
       "21500                      NaN                    YES    physics  \n",
       "21501                      NaN                     NO    physics  \n",
       "21502  university of amsterdam                     NO    physics  \n",
       "21503  university of amsterdam                     NO    physics  \n",
       "\n",
       "[93394 rows x 11 columns]"
      ]
     },
     "execution_count": 145,
     "metadata": {},
     "output_type": "execute_result"
    }
   ],
   "source": [
    "data"
   ]
  },
  {
   "cell_type": "code",
   "execution_count": null,
   "id": "b3cdfc76",
   "metadata": {},
   "outputs": [],
   "source": []
  }
 ],
 "metadata": {
  "kernelspec": {
   "display_name": "base",
   "language": "python",
   "name": "python3"
  },
  "language_info": {
   "codemirror_mode": {
    "name": "ipython",
    "version": 3
   },
   "file_extension": ".py",
   "mimetype": "text/x-python",
   "name": "python",
   "nbconvert_exporter": "python",
   "pygments_lexer": "ipython3",
   "version": "3.11.5"
  }
 },
 "nbformat": 4,
 "nbformat_minor": 5
}
